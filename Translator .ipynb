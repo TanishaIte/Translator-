{
 "cells": [
  {
   "cell_type": "code",
   "execution_count": 11,
   "id": "b125938f",
   "metadata": {},
   "outputs": [
    {
     "name": "stdout",
     "output_type": "stream",
     "text": [
      "Please Enter The Word or Sentence Needed To Be Translated\n",
      "你好\n",
      "Translated text: Hello\n"
     ]
    }
   ],
   "source": [
    "from googletrans import Translator\n",
    "\n",
    "def translate_text(text, target_language='en'):\n",
    "    translator = Translator()\n",
    "    translated_text = translator.translate(text, dest=target_language)\n",
    "    return translated_text.text\n",
    "\n",
    "# Example usage\n",
    "print(\"Please Enter The Word or Sentence Needed To Be Translated\")\n",
    "text_to_translate = input(\"\")\n",
    "translated_text = translate_text(text_to_translate, target_language='en')\n",
    "print(\"Translated text:\", translated_text)\n"
   ]
  },
  {
   "cell_type": "code",
   "execution_count": null,
   "id": "0b23d4cd",
   "metadata": {},
   "outputs": [],
   "source": []
  }
 ],
 "metadata": {
  "kernelspec": {
   "display_name": "Python 3 (ipykernel)",
   "language": "python",
   "name": "python3"
  },
  "language_info": {
   "codemirror_mode": {
    "name": "ipython",
    "version": 3
   },
   "file_extension": ".py",
   "mimetype": "text/x-python",
   "name": "python",
   "nbconvert_exporter": "python",
   "pygments_lexer": "ipython3",
   "version": "3.11.5"
  }
 },
 "nbformat": 4,
 "nbformat_minor": 5
}
